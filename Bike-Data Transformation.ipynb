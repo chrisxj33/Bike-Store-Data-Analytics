{
 "cells": [
  {
   "cell_type": "code",
   "execution_count": null,
   "metadata": {
    "application/vnd.databricks.v1+cell": {
     "cellMetadata": {
      "byteLimit": 2048000,
      "rowLimit": 10000
     },
     "inputWidgets": {},
     "nuid": "f456a0f5-3e54-4620-8872-30636258625e",
     "showTitle": false,
     "title": ""
    }
   },
   "outputs": [],
   "source": [
    "from pyspark.sql.functions import col\n",
    "from pyspark.sql.types import IntegerType, DoubleType, BooleanType, DateType, FloatType\n",
    "from pyspark.sql import SparkSession"
   ]
  },
  {
   "cell_type": "code",
   "execution_count": null,
   "metadata": {
    "application/vnd.databricks.v1+cell": {
     "cellMetadata": {
      "byteLimit": 2048000,
      "rowLimit": 10000
     },
     "inputWidgets": {},
     "nuid": "404fd632-69bc-41d5-9ff4-f530bba09392",
     "showTitle": false,
     "title": ""
    }
   },
   "outputs": [],
   "source": [
    "# Create configuration\n",
    "configs = {\"fs.azure.account.auth.type\": \"OAuth\",\n",
    "\"fs.azure.account.oauth.provider.type\": \"org.apache.hadoop.fs.azurebfs.oauth2.ClientCredsTokenProvider\",\n",
    "\"fs.azure.account.oauth2.client.id\": \"x\",\n",
    "\"fs.azure.account.oauth2.client.secret\": \"x\",\n",
    "\"fs.azure.account.oauth2.client.endpoint\": \"https://login.microsoftonline.com/x/oauth2/token\"}\n",
    "\n",
    "# Mounting point (path)\n",
    "dbutils.fs.mount(\n",
    "source = \"abfss://bike-store-data@x.dfs.core.windows.net\", # container@storageaccname\n",
    "mount_point = \"/mnt/bikestore\",\n",
    "extra_configs = configs)"
   ]
  },
  {
   "cell_type": "code",
   "execution_count": null,
   "metadata": {
    "application/vnd.databricks.v1+cell": {
     "cellMetadata": {
      "byteLimit": 2048000,
      "rowLimit": 10000
     },
     "inputWidgets": {},
     "nuid": "df00e0cc-a9f3-4275-b675-71cef56ca183",
     "showTitle": false,
     "title": ""
    }
   },
   "outputs": [
    {
     "data": {
      "text/html": [
       "<style scoped>\n",
       "  .table-result-container {\n",
       "    max-height: 300px;\n",
       "    overflow: auto;\n",
       "  }\n",
       "  table, th, td {\n",
       "    border: 1px solid black;\n",
       "    border-collapse: collapse;\n",
       "  }\n",
       "  th, td {\n",
       "    padding: 5px;\n",
       "  }\n",
       "  th {\n",
       "    text-align: left;\n",
       "  }\n",
       "</style><div class='table-result-container'><table class='table-result'><thead style='background-color: white'><tr><th>path</th><th>name</th><th>size</th><th>modificationTime</th></tr></thead><tbody><tr><td>dbfs:/mnt/bikestore/raw-data/</td><td>raw-data/</td><td>0</td><td>1698053609000</td></tr><tr><td>dbfs:/mnt/bikestore/transformed-data/</td><td>transformed-data/</td><td>0</td><td>1698053618000</td></tr></tbody></table></div>"
      ]
     },
     "metadata": {
      "application/vnd.databricks.v1+output": {
       "addedWidgets": {},
       "aggData": [],
       "aggError": "",
       "aggOverflow": false,
       "aggSchema": [],
       "aggSeriesLimitReached": false,
       "aggType": "",
       "arguments": {},
       "columnCustomDisplayInfos": {},
       "data": [
        [
         "dbfs:/mnt/bikestore/raw-data/",
         "raw-data/",
         0,
         1698053609000
        ],
        [
         "dbfs:/mnt/bikestore/transformed-data/",
         "transformed-data/",
         0,
         1698053618000
        ]
       ],
       "datasetInfos": [],
       "dbfsResultPath": null,
       "isJsonSchema": true,
       "metadata": {
        "isDbfsCommandResult": false
       },
       "overflow": false,
       "plotOptions": {
        "customPlotOptions": {},
        "displayType": "table",
        "pivotAggregation": null,
        "pivotColumns": null,
        "xColumns": null,
        "yColumns": null
       },
       "removedWidgets": [],
       "schema": [
        {
         "metadata": "{}",
         "name": "path",
         "type": "\"string\""
        },
        {
         "metadata": "{}",
         "name": "name",
         "type": "\"string\""
        },
        {
         "metadata": "{}",
         "name": "size",
         "type": "\"long\""
        },
        {
         "metadata": "{}",
         "name": "modificationTime",
         "type": "\"long\""
        }
       ],
       "type": "table"
      }
     },
     "output_type": "display_data"
    }
   ],
   "source": [
    "%fs\n",
    "ls \"/mnt/bikestore\""
   ]
  },
  {
   "cell_type": "code",
   "execution_count": null,
   "metadata": {
    "application/vnd.databricks.v1+cell": {
     "cellMetadata": {
      "byteLimit": 2048000,
      "rowLimit": 10000
     },
     "inputWidgets": {},
     "nuid": "65a9e849-9ac3-4ec4-bef2-92054e921185",
     "showTitle": false,
     "title": ""
    }
   },
   "outputs": [
    {
     "name": "stdout",
     "output_type": "stream",
     "text": [
      "+--------+------------+\n",
      "|brand_id|  brand_name|\n",
      "+--------+------------+\n",
      "|       1|     Electra|\n",
      "|       2|        Haro|\n",
      "|       3|      Heller|\n",
      "|       4| Pure Cycles|\n",
      "|       5|     Ritchey|\n",
      "|       6|     Strider|\n",
      "|       7|Sun Bicycles|\n",
      "|       8|       Surly|\n",
      "|       9|        Trek|\n",
      "+--------+------------+\n",
      "\n"
     ]
    }
   ],
   "source": [
    "# Read data\n",
    "brands = spark.read.format(\"csv\").option(\"header\", \"true\").load(\"/mnt/bikestore/raw-data/brands.csv\")\n",
    "categories = spark.read.format(\"csv\").option(\"header\", \"true\").load(\"/mnt/bikestore/raw-data/categories.csv\")\n",
    "customers = spark.read.format(\"csv\").option(\"header\", \"true\").load(\"/mnt/bikestore/raw-data/customers.csv\")\n",
    "ordereditems = spark.read.format(\"csv\").option(\"header\", \"true\").load(\"/mnt/bikestore/raw-data/ordereditems.csv\")\n",
    "orders = spark.read.format(\"csv\").option(\"header\", \"true\").load(\"/mnt/bikestore/raw-data/orders.csv\")\n",
    "products = spark.read.format(\"csv\").option(\"header\", \"true\").load(\"/mnt/bikestore/raw-data/products.csv\")"
   ]
  },
  {
   "cell_type": "code",
   "execution_count": null,
   "metadata": {
    "application/vnd.databricks.v1+cell": {
     "cellMetadata": {
      "byteLimit": 2048000,
      "rowLimit": 10000
     },
     "inputWidgets": {},
     "nuid": "f3c48536-540f-48ac-817f-21c31e4354b2",
     "showTitle": false,
     "title": ""
    }
   },
   "outputs": [
    {
     "name": "stdout",
     "output_type": "stream",
     "text": [
      "root\n",
      " |-- brand_id: integer (nullable = true)\n",
      " |-- brand_name: string (nullable = true)\n",
      "\n",
      "+--------+------------+\n",
      "|brand_id|  brand_name|\n",
      "+--------+------------+\n",
      "|       1|     Electra|\n",
      "|       2|        Haro|\n",
      "|       3|      Heller|\n",
      "|       4| Pure Cycles|\n",
      "|       5|     Ritchey|\n",
      "|       6|     Strider|\n",
      "|       7|Sun Bicycles|\n",
      "|       8|       Surly|\n",
      "|       9|        Trek|\n",
      "+--------+------------+\n",
      "\n"
     ]
    }
   ],
   "source": [
    "# Investigate brands table schema\n",
    "brands.printSchema()\n",
    "brands.show()"
   ]
  },
  {
   "cell_type": "code",
   "execution_count": null,
   "metadata": {
    "application/vnd.databricks.v1+cell": {
     "cellMetadata": {
      "byteLimit": 2048000,
      "rowLimit": 10000
     },
     "inputWidgets": {},
     "nuid": "244c256c-2894-4d80-83fa-17d3d9afe74e",
     "showTitle": false,
     "title": ""
    }
   },
   "outputs": [],
   "source": [
    "# Convert brand_id from str to int\n",
    "brands = brands.withColumn(\"brand_id\", col(\"brand_id\").cast(IntegerType()))"
   ]
  },
  {
   "cell_type": "code",
   "execution_count": null,
   "metadata": {
    "application/vnd.databricks.v1+cell": {
     "cellMetadata": {
      "byteLimit": 2048000,
      "rowLimit": 10000
     },
     "inputWidgets": {},
     "nuid": "950f5f51-56c9-4166-bf82-e8a2254c5276",
     "showTitle": false,
     "title": ""
    }
   },
   "outputs": [
    {
     "name": "stdout",
     "output_type": "stream",
     "text": [
      "root\n",
      " |-- category_id: integer (nullable = true)\n",
      " |-- category_name: string (nullable = true)\n",
      "\n",
      "+-----------+-------------------+\n",
      "|category_id|      category_name|\n",
      "+-----------+-------------------+\n",
      "|          1|  Children Bicycles|\n",
      "|          2|   Comfort Bicycles|\n",
      "|          3|  Cruisers Bicycles|\n",
      "|          4|Cyclocross Bicycles|\n",
      "|          5|     Electric Bikes|\n",
      "|          6|     Mountain Bikes|\n",
      "|          7|         Road Bikes|\n",
      "+-----------+-------------------+\n",
      "\n"
     ]
    }
   ],
   "source": [
    "# Investigate categories table schema\n",
    "categories.printSchema()\n",
    "categories.show()"
   ]
  },
  {
   "cell_type": "code",
   "execution_count": null,
   "metadata": {
    "application/vnd.databricks.v1+cell": {
     "cellMetadata": {
      "byteLimit": 2048000,
      "rowLimit": 10000
     },
     "inputWidgets": {},
     "nuid": "e9c94cdb-d57d-4047-893a-ea8421758d4f",
     "showTitle": false,
     "title": ""
    }
   },
   "outputs": [],
   "source": [
    "# Convert category_id from str to int\n",
    "categories = categories.withColumn(\"category_id\", col(\"category_id\").cast(IntegerType()))"
   ]
  },
  {
   "cell_type": "code",
   "execution_count": null,
   "metadata": {
    "application/vnd.databricks.v1+cell": {
     "cellMetadata": {
      "byteLimit": 2048000,
      "rowLimit": 10000
     },
     "inputWidgets": {},
     "nuid": "d314463a-c022-4bbb-9067-a389d2cbd983",
     "showTitle": false,
     "title": ""
    }
   },
   "outputs": [
    {
     "name": "stdout",
     "output_type": "stream",
     "text": [
      "root\n",
      " |-- customer_id: integer (nullable = true)\n",
      " |-- first_name: string (nullable = true)\n",
      " |-- last_name: string (nullable = true)\n",
      " |-- phone: string (nullable = true)\n",
      " |-- email: string (nullable = true)\n",
      " |-- street: string (nullable = true)\n",
      " |-- city: string (nullable = true)\n",
      " |-- state: string (nullable = true)\n",
      " |-- zip_code: integer (nullable = true)\n",
      "\n",
      "+-----------+----------+---------+--------------+--------------------+--------------------+---------------+-----+--------+\n",
      "|customer_id|first_name|last_name|         phone|               email|              street|           city|state|zip_code|\n",
      "+-----------+----------+---------+--------------+--------------------+--------------------+---------------+-----+--------+\n",
      "|          1|     Debra|    Burks|          NULL|debra.burks@yahoo...|   9273 Thorne Ave. |   Orchard Park|   NY|   14127|\n",
      "|          2|     Kasha|     Todd|          NULL|kasha.todd@yahoo.com|    910 Vine Street |       Campbell|   CA|   95008|\n",
      "|          3|    Tameka|   Fisher|          NULL|tameka.fisher@aol...|769C Honey Creek ...|  Redondo Beach|   CA|   90278|\n",
      "|          4|     Daryl|   Spence|          NULL|daryl.spence@aol.com|     988 Pearl Lane |      Uniondale|   NY|   11553|\n",
      "|          5|Charolette|     Rice|(916) 381-6003|charolette.rice@m...|      107 River Dr. |     Sacramento|   CA|   95820|\n",
      "|          6|   Lyndsey|     Bean|          NULL|lyndsey.bean@hotm...|      769 West Road |       Fairport|   NY|   14450|\n",
      "|          7|   Latasha|     Hays|(716) 986-3359|latasha.hays@hotm...|7014 Manor Statio...|        Buffalo|   NY|   14215|\n",
      "|          8| Jacquline|   Duncan|          NULL|jacquline.duncan@...|       15 Brown St. |Jackson Heights|   NY|   11372|\n",
      "|          9|  Genoveva|  Baldwin|          NULL|genoveva.baldwin@...|  8550 Spruce Drive |Port Washington|   NY|   11050|\n",
      "|         10|   Pamelia|   Newman|          NULL|pamelia.newman@gm...|  476 Chestnut Ave. |         Monroe|   NY|   10950|\n",
      "|         11|   Deshawn|  Mendoza|          NULL|deshawn.mendoza@y...|8790 Cobblestone ...|         Monsey|   NY|   10952|\n",
      "|         12|     Robby|    Sykes|(516) 583-7761|robby.sykes@hotma...|486 Rock Maple St...|      Hempstead|   NY|   11550|\n",
      "|         13|   Lashawn|    Ortiz|          NULL|lashawn.ortiz@msn...|  27 Washington Rd. |       Longview|   TX|   75604|\n",
      "|         14|     Garry| Espinoza|          NULL|garry.espinoza@ho...|7858 Rockaway Court |         Forney|   TX|   75126|\n",
      "|         15|    Linnie|   Branch|          NULL|linnie.branch@gma...|314 South Columbi...|    Plattsburgh|   NY|   12901|\n",
      "|         16|    Emmitt|  Sanchez|(212) 945-8823|emmitt.sanchez@ho...|461 Squaw Creek R...|       New York|   NY|   10002|\n",
      "|         17|     Caren| Stephens|          NULL|caren.stephens@ms...|      914 Brook St. |      Scarsdale|   NY|   10583|\n",
      "|         18| Georgetta|   Hardin|          NULL|georgetta.hardin@...|     474 Chapel Dr. |    Canandaigua|   NY|   14424|\n",
      "|         19|  Lizzette|    Stein|          NULL|lizzette.stein@ya...| 19 Green Hill Lane |   Orchard Park|   NY|   14127|\n",
      "|         20|     Aleta|  Shepard|          NULL|aleta.shepard@aol...|     684 Howard St. |     Sugar Land|   TX|   77478|\n",
      "+-----------+----------+---------+--------------+--------------------+--------------------+---------------+-----+--------+\n",
      "only showing top 20 rows\n",
      "\n"
     ]
    }
   ],
   "source": [
    "# Investigate customers table schema\n",
    "customers.printSchema()\n",
    "customers.show()"
   ]
  },
  {
   "cell_type": "code",
   "execution_count": null,
   "metadata": {
    "application/vnd.databricks.v1+cell": {
     "cellMetadata": {
      "byteLimit": 2048000,
      "rowLimit": 10000
     },
     "inputWidgets": {},
     "nuid": "8b6c5221-902a-4546-bc02-941a47713741",
     "showTitle": false,
     "title": ""
    }
   },
   "outputs": [],
   "source": [
    "# Convert customer_id from str to int\n",
    "# Convert zip_code from str to int\n",
    "customers = (customers\n",
    "             .withColumn(\"customer_id\", col(\"customer_id\").cast(IntegerType()))\n",
    "             .withColumn(\"zip_code\", col(\"zip_code\").cast(IntegerType())))"
   ]
  },
  {
   "cell_type": "code",
   "execution_count": null,
   "metadata": {
    "application/vnd.databricks.v1+cell": {
     "cellMetadata": {
      "byteLimit": 2048000,
      "rowLimit": 10000
     },
     "inputWidgets": {},
     "nuid": "93e4083b-8f98-45f4-8e93-0bafb3d4127e",
     "showTitle": false,
     "title": ""
    }
   },
   "outputs": [
    {
     "name": "stdout",
     "output_type": "stream",
     "text": [
      "root\n",
      " |-- order_id: integer (nullable = true)\n",
      " |-- item_id: integer (nullable = true)\n",
      " |-- product_id: integer (nullable = true)\n",
      " |-- quantity: integer (nullable = true)\n",
      " |-- list_price: float (nullable = true)\n",
      " |-- discount: float (nullable = true)\n",
      "\n",
      "+--------+-------+----------+--------+----------+--------+\n",
      "|order_id|item_id|product_id|quantity|list_price|discount|\n",
      "+--------+-------+----------+--------+----------+--------+\n",
      "|       1|      1|        20|       1|    599.99|     0.2|\n",
      "|       1|      2|         8|       2|   1799.99|    0.07|\n",
      "|       1|      3|        10|       2|    1549.0|    0.05|\n",
      "|       1|      4|        16|       2|    599.99|    0.05|\n",
      "|       1|      5|         4|       1|   2899.99|     0.2|\n",
      "|       2|      1|        20|       1|    599.99|    0.07|\n",
      "|       2|      2|        16|       2|    599.99|    0.05|\n",
      "|       3|      1|         3|       1|    999.99|    0.05|\n",
      "|       3|      2|        20|       1|    599.99|    0.05|\n",
      "|       4|      1|         2|       2|    749.99|     0.1|\n",
      "|       5|      1|        10|       2|    1549.0|    0.05|\n",
      "|       5|      2|        17|       1|     429.0|    0.07|\n",
      "|       5|      3|        26|       1|    599.99|    0.07|\n",
      "|       6|      1|        18|       1|     449.0|    0.07|\n",
      "|       6|      2|        12|       2|    549.99|    0.05|\n",
      "|       6|      3|        20|       1|    599.99|     0.1|\n",
      "|       6|      4|         3|       2|    999.99|    0.07|\n",
      "|       6|      5|         9|       2|   2999.99|    0.07|\n",
      "|       7|      1|        15|       1|    529.99|    0.07|\n",
      "|       7|      2|         3|       1|    999.99|     0.1|\n",
      "+--------+-------+----------+--------+----------+--------+\n",
      "only showing top 20 rows\n",
      "\n"
     ]
    }
   ],
   "source": [
    "# Investigate ordereditems table schema\n",
    "ordereditems.printSchema()\n",
    "ordereditems.show()"
   ]
  },
  {
   "cell_type": "code",
   "execution_count": null,
   "metadata": {
    "application/vnd.databricks.v1+cell": {
     "cellMetadata": {
      "byteLimit": 2048000,
      "rowLimit": 10000
     },
     "inputWidgets": {},
     "nuid": "52b2983e-7dce-436f-95f7-d3dc88a2b90e",
     "showTitle": false,
     "title": ""
    }
   },
   "outputs": [],
   "source": [
    "# Convert order_id from str to int\n",
    "# Convert item_id from str to int\n",
    "# Convert product_id from str to int\n",
    "# Convert quantity from str to int\n",
    "# Convert list_price from str to float\n",
    "# Convert discount from str to float\n",
    "ordereditems = (ordereditems\n",
    "             .withColumn(\"order_id\", col(\"order_id\").cast(IntegerType()))\n",
    "             .withColumn(\"item_id\", col(\"item_id\").cast(IntegerType()))\n",
    "             .withColumn(\"product_id\", col(\"product_id\").cast(IntegerType()))\n",
    "             .withColumn(\"quantity\", col(\"quantity\").cast(IntegerType()))\n",
    "             .withColumn(\"list_price\", col(\"list_price\").cast(FloatType()))\n",
    "             .withColumn(\"discount\", col(\"discount\").cast(FloatType())))\n"
   ]
  },
  {
   "cell_type": "code",
   "execution_count": null,
   "metadata": {
    "application/vnd.databricks.v1+cell": {
     "cellMetadata": {
      "byteLimit": 2048000,
      "rowLimit": 10000
     },
     "inputWidgets": {},
     "nuid": "295da208-fb71-4424-a8b9-381ea86e85a1",
     "showTitle": false,
     "title": ""
    }
   },
   "outputs": [
    {
     "name": "stdout",
     "output_type": "stream",
     "text": [
      "root\n",
      " |-- order_id: integer (nullable = true)\n",
      " |-- customer_id: integer (nullable = true)\n",
      " |-- order_status: integer (nullable = true)\n",
      " |-- order_date: date (nullable = true)\n",
      " |-- required_date: date (nullable = true)\n",
      " |-- shipped_date: date (nullable = true)\n",
      " |-- store_id: integer (nullable = true)\n",
      " |-- staff_id: integer (nullable = true)\n",
      "\n",
      "+--------+-----------+------------+----------+-------------+------------+--------+--------+\n",
      "|order_id|customer_id|order_status|order_date|required_date|shipped_date|store_id|staff_id|\n",
      "+--------+-----------+------------+----------+-------------+------------+--------+--------+\n",
      "|       1|        259|           4|2016-01-01|   2016-01-03|  2016-01-03|       1|       2|\n",
      "|       2|       1212|           4|2016-01-01|   2016-01-04|  2016-01-03|       2|       6|\n",
      "|       3|        523|           4|2016-01-02|   2016-01-05|  2016-01-03|       2|       7|\n",
      "|       4|        175|           4|2016-01-03|   2016-01-04|  2016-01-05|       1|       3|\n",
      "|       5|       1324|           4|2016-01-03|   2016-01-06|  2016-01-06|       2|       6|\n",
      "|       6|         94|           4|2016-01-04|   2016-01-07|  2016-01-05|       2|       6|\n",
      "|       7|        324|           4|2016-01-04|   2016-01-07|  2016-01-05|       2|       6|\n",
      "|       8|       1204|           4|2016-01-04|   2016-01-05|  2016-01-05|       2|       7|\n",
      "|       9|         60|           4|2016-01-05|   2016-01-08|  2016-01-08|       1|       2|\n",
      "|      10|        442|           4|2016-01-05|   2016-01-06|  2016-01-06|       2|       6|\n",
      "|      11|       1326|           4|2016-01-05|   2016-01-08|  2016-01-07|       2|       7|\n",
      "|      12|         91|           4|2016-01-06|   2016-01-08|  2016-01-09|       1|       2|\n",
      "|      13|        873|           4|2016-01-08|   2016-01-11|  2016-01-11|       2|       6|\n",
      "|      14|        258|           4|2016-01-09|   2016-01-11|  2016-01-12|       1|       3|\n",
      "|      15|        450|           4|2016-01-09|   2016-01-10|  2016-01-12|       2|       7|\n",
      "|      16|        552|           4|2016-01-12|   2016-01-15|  2016-01-15|       1|       3|\n",
      "|      17|       1175|           4|2016-01-12|   2016-01-14|  2016-01-14|       1|       3|\n",
      "|      18|        541|           4|2016-01-14|   2016-01-17|  2016-01-15|       1|       3|\n",
      "|      19|        696|           4|2016-01-14|   2016-01-17|  2016-01-16|       1|       2|\n",
      "|      20|        923|           4|2016-01-14|   2016-01-16|  2016-01-17|       1|       2|\n",
      "+--------+-----------+------------+----------+-------------+------------+--------+--------+\n",
      "only showing top 20 rows\n",
      "\n"
     ]
    }
   ],
   "source": [
    "# Investigate orders table schema\n",
    "orders.printSchema()\n",
    "orders.show()"
   ]
  },
  {
   "cell_type": "code",
   "execution_count": null,
   "metadata": {
    "application/vnd.databricks.v1+cell": {
     "cellMetadata": {
      "byteLimit": 2048000,
      "rowLimit": 10000
     },
     "inputWidgets": {},
     "nuid": "708e44c4-1221-4301-aba2-f77fda5ed4c9",
     "showTitle": false,
     "title": ""
    }
   },
   "outputs": [],
   "source": [
    "# Convert order_id from str to int\n",
    "# Convert customer_id from str to int\n",
    "# Convert order_status from str to int\n",
    "# Convert order_date from str to date\n",
    "# Convert required_date from str to date\n",
    "# Convert shipped_date from str to date\n",
    "# Convert store_id from str to int\n",
    "# Convert staff_id from str to int\n",
    "orders = (orders\n",
    "             .withColumn(\"order_id\", col(\"order_id\").cast(IntegerType()))\n",
    "             .withColumn(\"customer_id\", col(\"customer_id\").cast(IntegerType()))\n",
    "             .withColumn(\"order_status\", col(\"order_status\").cast(IntegerType()))\n",
    "             .withColumn(\"order_date\", col(\"order_date\").cast(DateType()))\n",
    "             .withColumn(\"required_date\", col(\"required_date\").cast(DateType()))\n",
    "             .withColumn(\"shipped_date\", col(\"shipped_date\").cast(DateType()))\n",
    "             .withColumn(\"store_id\", col(\"store_id\").cast(IntegerType()))\n",
    "             .withColumn(\"staff_id\", col(\"staff_id\").cast(IntegerType())))\n"
   ]
  },
  {
   "cell_type": "code",
   "execution_count": null,
   "metadata": {
    "application/vnd.databricks.v1+cell": {
     "cellMetadata": {
      "byteLimit": 2048000,
      "rowLimit": 10000
     },
     "inputWidgets": {},
     "nuid": "9d1e1cef-aba6-4889-af4c-10b0d5d826cc",
     "showTitle": false,
     "title": ""
    }
   },
   "outputs": [
    {
     "name": "stdout",
     "output_type": "stream",
     "text": [
      "root\n",
      " |-- product_id: integer (nullable = true)\n",
      " |-- product_name: string (nullable = true)\n",
      " |-- brand_id: integer (nullable = true)\n",
      " |-- category_id: integer (nullable = true)\n",
      " |-- model_year: integer (nullable = true)\n",
      " |-- list_price: float (nullable = true)\n",
      "\n",
      "+----------+--------------------+--------+-----------+----------+----------+\n",
      "|product_id|        product_name|brand_id|category_id|model_year|list_price|\n",
      "+----------+--------------------+--------+-----------+----------+----------+\n",
      "|         1|     Trek 820 - 2016|       9|          6|      2016|    379.99|\n",
      "|         2|Ritchey Timberwol...|       5|          6|      2016|    749.99|\n",
      "|         3|Surly Wednesday F...|       8|          6|      2016|    999.99|\n",
      "|         4|Trek Fuel EX 8 29...|       9|          6|      2016|   2899.99|\n",
      "|         5|Heller Shagamaw F...|       3|          6|      2016|   1320.99|\n",
      "|         6|Surly Ice Cream T...|       8|          6|      2016|    469.99|\n",
      "|         7|Trek Slash 8 27.5...|       9|          6|      2016|   3999.99|\n",
      "|         8|Trek Remedy 29 Ca...|       9|          6|      2016|   1799.99|\n",
      "|         9|Trek Conduit+ - 2016|       9|          5|      2016|   2999.99|\n",
      "|        10|Surly Straggler -...|       8|          4|      2016|    1549.0|\n",
      "|        11|Surly Straggler 6...|       8|          4|      2016|   1680.99|\n",
      "|        12|Electra Townie Or...|       1|          3|      2016|    549.99|\n",
      "|        13|Electra Cruiser 1...|       1|          3|      2016|    269.99|\n",
      "|        14|Electra Girl's Ha...|       1|          3|      2016|    269.99|\n",
      "|        15|Electra Moto 1 - ...|       1|          3|      2016|    529.99|\n",
      "|        16|Electra Townie Or...|       1|          3|      2016|    599.99|\n",
      "|        17|Pure Cycles Vine ...|       4|          3|      2016|     429.0|\n",
      "|        18|Pure Cycles Weste...|       4|          3|      2016|     449.0|\n",
      "|        19|Pure Cycles Willi...|       4|          3|      2016|     449.0|\n",
      "|        20|Electra Townie Or...|       1|          3|      2016|    599.99|\n",
      "+----------+--------------------+--------+-----------+----------+----------+\n",
      "only showing top 20 rows\n",
      "\n"
     ]
    }
   ],
   "source": [
    "# Investigate products table schema\n",
    "products.printSchema()\n",
    "products.show()"
   ]
  },
  {
   "cell_type": "code",
   "execution_count": null,
   "metadata": {
    "application/vnd.databricks.v1+cell": {
     "cellMetadata": {
      "byteLimit": 2048000,
      "rowLimit": 10000
     },
     "inputWidgets": {},
     "nuid": "a2bcf726-f860-4a67-a25b-29daa1d4bd51",
     "showTitle": false,
     "title": ""
    }
   },
   "outputs": [],
   "source": [
    "# Convert product_id from str to int\n",
    "# Convert brand_id from str to int\n",
    "# Convert category_id from str to int\n",
    "# Convert model_year from str to int\n",
    "# Convert list_price from str to float\n",
    "products = (products\n",
    "             .withColumn(\"product_id\", col(\"product_id\").cast(IntegerType()))\n",
    "             .withColumn(\"brand_id\", col(\"brand_id\").cast(IntegerType()))\n",
    "             .withColumn(\"category_id\", col(\"category_id\").cast(IntegerType()))\n",
    "             .withColumn(\"model_year\", col(\"model_year\").cast(IntegerType()))\n",
    "             .withColumn(\"list_price\", col(\"list_price\").cast(FloatType())))"
   ]
  },
  {
   "cell_type": "code",
   "execution_count": null,
   "metadata": {
    "application/vnd.databricks.v1+cell": {
     "cellMetadata": {
      "byteLimit": 2048000,
      "rowLimit": 10000
     },
     "inputWidgets": {},
     "nuid": "af463feb-0465-4a62-899b-be505863f2cd",
     "showTitle": false,
     "title": ""
    }
   },
   "outputs": [],
   "source": [
    "# Save transformed data\n",
    "brands.repartition(1).write.mode(\"overwrite\").option(\"header\",'true').csv(\"/mnt/bikestore/transformed-data/brands.csv\")\n",
    "categories.repartition(1).write.mode(\"overwrite\").option(\"header\",'true').csv(\"/mnt/bikestore/transformed-data/categories.csv\")\n",
    "customers.repartition(1).write.mode(\"overwrite\").option(\"header\",'true').csv(\"/mnt/bikestore/transformed-data/customers.csv\")\n",
    "ordereditems.repartition(1).write.mode(\"overwrite\").option(\"header\",'true').csv(\"/mnt/bikestore/transformed-data/ordereditems.csv\")\n",
    "orders.repartition(1).write.mode(\"overwrite\").option(\"header\",'true').csv(\"/mnt/bikestore/transformed-data/orders.csv\")\n",
    "products.repartition(1).write.mode(\"overwrite\").option(\"header\",'true').csv(\"/mnt/bikestore/transformed-data/products.csv\")"
   ]
  }
 ],
 "metadata": {
  "application/vnd.databricks.v1+notebook": {
   "dashboards": [],
   "language": "python",
   "notebookMetadata": {
    "mostRecentlyExecutedCommandWithImplicitDF": {
     "commandId": 2973103094262425,
     "dataframes": [
      "_sqldf"
     ]
    },
    "pythonIndentUnit": 4
   },
   "notebookName": "Bike-Data Transformation",
   "widgets": {}
  },
  "language_info": {
   "name": "python"
  }
 },
 "nbformat": 4,
 "nbformat_minor": 0
}
